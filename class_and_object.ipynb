{
  "nbformat": 4,
  "nbformat_minor": 0,
  "metadata": {
    "colab": {
      "provenance": [],
      "authorship_tag": "ABX9TyP/IzkfPXIm53CZ2cuXslGh",
      "include_colab_link": true
    },
    "kernelspec": {
      "name": "python3",
      "display_name": "Python 3"
    },
    "language_info": {
      "name": "python"
    }
  },
  "cells": [
    {
      "cell_type": "markdown",
      "metadata": {
        "id": "view-in-github",
        "colab_type": "text"
      },
      "source": [
        "<a href=\"https://colab.research.google.com/github/MythilyCrazy/class-and-object/blob/main/class_and_object.ipynb\" target=\"_parent\"><img src=\"https://colab.research.google.com/assets/colab-badge.svg\" alt=\"Open In Colab\"/></a>"
      ]
    },
    {
      "cell_type": "code",
      "execution_count": null,
      "metadata": {
        "colab": {
          "base_uri": "https://localhost:8080/"
        },
        "id": "SwinrUUWOFIw",
        "outputId": "70bfa7d5-be8b-480a-a22f-840e5ce7fe4c"
      },
      "outputs": [
        {
          "output_type": "stream",
          "name": "stdout",
          "text": [
            "50000\n"
          ]
        }
      ],
      "source": [
        "class laptop:\n",
        "  price = \"\"\n",
        "  processor = \"\"\n",
        "  RAM = \"\"\n",
        "\n",
        "Hp = laptop()\n",
        "Dell = laptop()\n",
        "Hp.price = 50000\n",
        "Hp.processor = \"i7\"\n",
        "Hp.RAM = \"16GB\"\n",
        "print(Hp.price)"
      ]
    },
    {
      "cell_type": "code",
      "source": [
        "class goa:\n",
        "  name = \"\"\n",
        "  drink = \"\"\n",
        "  def party(self):\n",
        "    print(\"enjoy party\")\n",
        "  def beach(self):\n",
        "    print(\"enjoy beach\")\n",
        "ramesh = goa()\n",
        "ganesh = goa()\n",
        "ramesh.name = \"Ramesh\"\n",
        "ganesh.name = \"Ganesh\"\n",
        "ramesh.drink = \"yes\"\n",
        "ganesh.drink =  \"no\"\n",
        "print(ramesh.name)\n",
        "print(\"drink : \",ramesh.drink)\n",
        "ramesh.party()\n",
        "print(ganesh.name)\n",
        "print(\"drink : \",ganesh.drink)\n",
        "ganesh.beach()\n",
        "\n"
      ],
      "metadata": {
        "colab": {
          "base_uri": "https://localhost:8080/"
        },
        "id": "LMAm_ogLQXKD",
        "outputId": "e1cb6da8-7274-4739-cd44-c0d3e7d0b8a2"
      },
      "execution_count": null,
      "outputs": [
        {
          "output_type": "stream",
          "name": "stdout",
          "text": [
            "Ramesh\n",
            "drink :  yes\n",
            "enjoy party\n",
            "Ganesh\n",
            "drink :  no\n",
            "enjoy beach\n"
          ]
        }
      ]
    },
    {
      "cell_type": "code",
      "source": [
        "class my:\n",
        "  def __init__(self):    #constructor automatically called when object is created from class.\n",
        "    print(\"demo\")\n",
        "  def she(self):\n",
        "    print(\"she is good\")\n",
        "arms = my()"
      ],
      "metadata": {
        "colab": {
          "base_uri": "https://localhost:8080/"
        },
        "id": "Bs6nyiURi1kl",
        "outputId": "ad841b26-a098-482b-fd39-28329bbd6c07"
      },
      "execution_count": null,
      "outputs": [
        {
          "output_type": "stream",
          "name": "stdout",
          "text": [
            "demo\n"
          ]
        }
      ]
    },
    {
      "cell_type": "code",
      "source": [
        "class books:\n",
        "  def __init__(self):    #purpose of constructor is to initial or assign values\n",
        "    self.book_name = \"\"\n",
        "    self.book_price = 0\n",
        "  def review(self):\n",
        "    print(\"4 star\")\n",
        "comp = books()\n",
        "comp.book_name = \"Java\"\n",
        "comp.book_price = 3200\n",
        "print(comp.book_name)\n",
        "print(comp.book_price)\n",
        "comp.review()"
      ],
      "metadata": {
        "colab": {
          "base_uri": "https://localhost:8080/"
        },
        "id": "DUch4ljFopS9",
        "outputId": "45ce5d83-61fd-43ab-9534-39142ed5cb65"
      },
      "execution_count": null,
      "outputs": [
        {
          "output_type": "stream",
          "name": "stdout",
          "text": [
            "Java\n",
            "3200\n",
            "4 star\n"
          ]
        }
      ]
    },
    {
      "cell_type": "code",
      "source": [
        "class books:\n",
        "  def __init__(self):\n",
        "    self.book_name = \"\"\n",
        "    self.book_price = 0\n",
        "  def show(self):\n",
        "    print(\"Book Name - \",self.book_name)   #class makes a self keyword for reffering an object #self--> current object\n",
        "    print(\"Book Price - \",self.book_price)\n",
        "book1 = books()\n",
        "book1.book_name = \"Java\"\n",
        "book1.book_price = 3200\n",
        "book2 = books()\n",
        "book2.book_name = \"Python\"\n",
        "book2.book_price = 2000\n",
        "book1.show()\n",
        "book2.show()"
      ],
      "metadata": {
        "colab": {
          "base_uri": "https://localhost:8080/"
        },
        "id": "U1k73Q1eql0D",
        "outputId": "4f02ae0f-902f-4018-8091-68049fab0348"
      },
      "execution_count": null,
      "outputs": [
        {
          "output_type": "stream",
          "name": "stdout",
          "text": [
            "Book Name -  Java\n",
            "Book Price -  3200\n",
            "Book Name -  Python\n",
            "Book Price -  2000\n"
          ]
        }
      ]
    },
    {
      "cell_type": "code",
      "source": [
        "class Books:\n",
        "  pass        #pass is used to create an empty class"
      ],
      "metadata": {
        "id": "NdMb57qHrmF_"
      },
      "execution_count": null,
      "outputs": []
    },
    {
      "cell_type": "code",
      "source": [
        "class Student:\n",
        "  def __init__(self):\n",
        "    self.name = \"\"\n",
        "    self.regno = \"\"\n",
        "  def display(self):\n",
        "    print(\"Name - \",self.name)\n",
        "    print(\"Reg.No - \",self.regno)\n",
        "student1 = Student()\n",
        "student2 = Student()\n",
        "student1.name = \"Mythily\"\n",
        "student1.regno = \"My123\"\n",
        "student2.name = \"Anitha\"\n",
        "student2.regno = \"An124\"\n",
        "student1.display()\n",
        "student2.display()"
      ],
      "metadata": {
        "colab": {
          "base_uri": "https://localhost:8080/"
        },
        "id": "T9d4lwTnsRBY",
        "outputId": "5efe181e-5124-4d99-e097-a5fd0c285fa7"
      },
      "execution_count": null,
      "outputs": [
        {
          "output_type": "stream",
          "name": "stdout",
          "text": [
            "Name -  Mythily\n",
            "Reg.No -  My123\n",
            "Name -  Anitha\n",
            "Reg.No -  An124\n"
          ]
        }
      ]
    },
    {
      "cell_type": "code",
      "source": [
        "class Fruit:\n",
        "  def __init__(self,col):\n",
        "    self.color = col\n",
        "\n",
        "apple = Fruit(\"Red\")\n",
        "print(apple.color)\n"
      ],
      "metadata": {
        "colab": {
          "base_uri": "https://localhost:8080/"
        },
        "id": "KzUNre2OuILt",
        "outputId": "12f4d616-28dd-49dc-816a-ec3f2829ab7b"
      },
      "execution_count": null,
      "outputs": [
        {
          "output_type": "stream",
          "name": "stdout",
          "text": [
            "Red\n"
          ]
        }
      ]
    },
    {
      "cell_type": "code",
      "source": [
        "class Teacher:\n",
        "  def __init__(self,name,reg):\n",
        "    self.name = name\n",
        "    self.regno = reg\n",
        "  def display(self):\n",
        "    print(\"Name : \",self.name)\n",
        "    print(\"Reg.no :\",self.regno)\n",
        "teach1 = Teacher(\"mythu\",\"my123\")\n",
        "teach2 = Teacher(\"Anitha\",\"An124\")\n",
        "teach1.display()\n",
        "teach2.display()\n"
      ],
      "metadata": {
        "colab": {
          "base_uri": "https://localhost:8080/"
        },
        "id": "Xa_0Enb87Uuc",
        "outputId": "b8af8aff-9b91-4cc0-f5ad-1893834cad0b"
      },
      "execution_count": null,
      "outputs": [
        {
          "output_type": "stream",
          "name": "stdout",
          "text": [
            "Name :  mythu\n",
            "Reg.no : my123\n",
            "Name :  Anitha\n",
            "Reg.no : An124\n"
          ]
        }
      ]
    },
    {
      "cell_type": "code",
      "source": [
        "class Calculator():\n",
        "  def __init__(self,a,b):\n",
        "    self.add = a+b\n",
        "    self.sub = a-b\n",
        "    self.multi = a*b\n",
        "    self.div = a/b\n",
        "  def display(self):\n",
        "    print(\"Addition :\",self.add)\n",
        "    print(\"Subtraction :\",self.sub)\n",
        "    print(\"Multiplication :\",self.multi)\n",
        "    print(\"Division :\",self.div)\n",
        "obj1 = Calculator(10,2)\n",
        "obj1.display()"
      ],
      "metadata": {
        "colab": {
          "base_uri": "https://localhost:8080/"
        },
        "id": "kDrAkHo--NFt",
        "outputId": "af165ad6-bb1b-45d8-f518-603f1a24574e"
      },
      "execution_count": null,
      "outputs": [
        {
          "output_type": "stream",
          "name": "stdout",
          "text": [
            "Addition : 12\n",
            "Subtraction : 8\n",
            "Multiplication : 20\n",
            "Division : 5.0\n"
          ]
        }
      ]
    }
  ]
}